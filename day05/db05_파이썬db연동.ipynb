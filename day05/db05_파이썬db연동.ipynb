{
 "cells": [
  {
   "cell_type": "markdown",
   "metadata": {},
   "source": [
    "### DB연동 파이썬 프로그램"
   ]
  },
  {
   "cell_type": "markdown",
   "metadata": {},
   "source": [
    "#### 환경\n",
    "- MySQL 9.2.0\n",
    "- python 3.11.9\n",
    "    - MySQL 모듈 - PyMySQL"
   ]
  },
  {
   "cell_type": "code",
   "execution_count": 2,
   "metadata": {},
   "outputs": [
    {
     "name": "stdout",
     "output_type": "stream",
     "text": [
      "Collecting pymysql\n",
      "  Downloading PyMySQL-1.1.1-py3-none-any.whl.metadata (4.4 kB)\n",
      "Downloading PyMySQL-1.1.1-py3-none-any.whl (44 kB)\n",
      "   ---------------------------------------- 0.0/45.0 kB ? eta -:--:--\n",
      "   --------- ------------------------------ 10.2/45.0 kB ? eta -:--:--\n",
      "   ---------------------------------------- 45.0/45.0 kB 739.0 kB/s eta 0:00:00\n",
      "Installing collected packages: pymysql\n",
      "Successfully installed pymysql-1.1.1\n"
     ]
    },
    {
     "name": "stderr",
     "output_type": "stream",
     "text": [
      "\n",
      "[notice] A new release of pip is available: 24.0 -> 25.0.1\n",
      "[notice] To update, run: python.exe -m pip install --upgrade pip\n"
     ]
    }
   ],
   "source": [
    "!pip install pymysql\n"
   ]
  },
  {
   "cell_type": "markdown",
   "metadata": {},
   "source": [
    "#### 모듈 불러오기"
   ]
  },
  {
   "cell_type": "code",
   "execution_count": null,
   "metadata": {},
   "outputs": [],
   "source": [
    "import pymysql"
   ]
  },
  {
   "cell_type": "markdown",
   "metadata": {},
   "source": [
    "#### DB접속 변수 초기화"
   ]
  },
  {
   "cell_type": "code",
   "execution_count": 18,
   "metadata": {},
   "outputs": [],
   "source": [
    "host = 'localhost' # or '127.0.0.1'\n",
    "port = 3306\n",
    "database = 'madang'\n",
    "username = 'root'\n",
    "password = 'root'\n",
    "\n",
    "conflag = True # 접속 상태 "
   ]
  },
  {
   "cell_type": "markdown",
   "metadata": {},
   "source": [
    "#### DB접속 수행"
   ]
  },
  {
   "cell_type": "code",
   "execution_count": 19,
   "metadata": {},
   "outputs": [
    {
     "name": "stdout",
     "output_type": "stream",
     "text": [
      "DB연결 준비...\n",
      "DB연결 성공!\n"
     ]
    }
   ],
   "source": [
    "try:\n",
    "    print('DB연결 준비...')\n",
    "    # 연결객체 conn 생성\n",
    "    conn = pymysql.connect(host=host,port=port,database=database,user=username,passwd=password)\n",
    "    print('DB연결 성공!')\n",
    "except Exception as e:\n",
    "    print(f'DB연결 실패! {e}')\n",
    "    conflag = False"
   ]
  },
  {
   "cell_type": "markdown",
   "metadata": {},
   "source": [
    "#### 데이터 가져오기"
   ]
  },
  {
   "cell_type": "code",
   "execution_count": 22,
   "metadata": {},
   "outputs": [
    {
     "name": "stdout",
     "output_type": "stream",
     "text": [
      "book no.\tbookname\t\tpublisher\tprice\n",
      "1\t\t축구의 역사\t\t굿스포츠\t7000\n",
      "2\t\t축구아는 여자\t\t나무수\t13000\n",
      "3\t\t축구의 이해\t\t대한미디어\t22000\n",
      "4\t\t골프 바이블\t\t대한미디어\t35000\n",
      "5\t\t피겨 교본\t\t굿스포츠\t8000\n",
      "6\t\t역도 단계별기술\t\t굿스포츠\t6000\n",
      "7\t\t야구의 추억\t\t이상미디어\t20000\n",
      "8\t\t야구를 부탁해\t\t이상미디어\t13000\n",
      "9\t\t올림픽 이야기\t\t삼성당\t7500\n",
      "10\t\tOlympic Champions\t\tPearson\t13000\n",
      "11\t\t스포츠 의학\t\t한속의학서적\t90000\n",
      "13\t\t기타교본1\t\t지미핸드릭스\t97500\n",
      "14\t\t기타교본2\t\tPearson\t45000\n",
      "15\t\t기타교본3\t\t지미핸드릭스\t45000\n",
      "21\t\tZen Golf\t\tPearson\t12000\n",
      "22\t\tSoccer Skills\t\tHuman Kinetics\t15000\n",
      "23\t\t스포츠과학\t\t마당과학서적\t25000\n",
      "50\t\t뉴비\t\t공학\t97500\n"
     ]
    }
   ],
   "source": [
    "if conflag :\n",
    "    cursor = conn.cursor()      # 커서 생성(MySQL의 커서와 동일한 기능)\n",
    "    # query 문 ; 붙히지 말 것\n",
    "    query = '''\n",
    "            SELECT bookid\n",
    "                 , bookname\n",
    "                 , publisher\n",
    "                 , price \n",
    "            FROM Book      \n",
    "            '''\n",
    "    res = cursor.execute(query) # SQL 실행\n",
    "    data = cursor.fetchall()    # MySQL 데이터를 한번에 다 가져옴\n",
    "    print(\"book no.\\tbookname\\t\\tpublisher\\tprice\")\n",
    "    for rowdata in data:\n",
    "        print(f'{rowdata[0]}\\t\\t{rowdata[1]}\\t\\t{rowdata[2]}\\t{rowdata[3]}')\n",
    "    \n",
    "    cursor.close()"
   ]
  },
  {
   "cell_type": "markdown",
   "metadata": {},
   "source": [
    "#### DB연결 종료"
   ]
  },
  {
   "cell_type": "code",
   "execution_count": 23,
   "metadata": {},
   "outputs": [],
   "source": [
    "conn.close()    # 반드시 !"
   ]
  }
 ],
 "metadata": {
  "kernelspec": {
   "display_name": "3.11.9",
   "language": "python",
   "name": "python3"
  },
  "language_info": {
   "codemirror_mode": {
    "name": "ipython",
    "version": 3
   },
   "file_extension": ".py",
   "mimetype": "text/x-python",
   "name": "python",
   "nbconvert_exporter": "python",
   "pygments_lexer": "ipython3",
   "version": "3.11.9"
  }
 },
 "nbformat": 4,
 "nbformat_minor": 2
}
